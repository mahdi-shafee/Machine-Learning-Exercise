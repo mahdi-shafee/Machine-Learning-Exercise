{
 "cells": [
  {
   "cell_type": "markdown",
   "id": "16adc323",
   "metadata": {},
   "source": [
    "<br><font face=\"Times New Roman\" size=5><div dir=ltr align=center>\n",
    "<font color=blue size=8>\n",
    "    Introduction to Machine Learning <br>\n",
    "<font color=red size=5>\n",
    "    Sharif University of Technology - Computer Engineering Department <br>\n",
    "    Fall 2022<br> <br>\n",
    "<font color=black size=6>\n",
    "    Homework 2: Practical - Linear Regression\n",
    "    </div>\n",
    "<br><br>\n",
    "<font size=4>\n",
    "   **Name**: Mahdi Shafiee<br>\n",
    "   **Student ID**: 99109409<br> <br>"
   ]
  },
  {
   "cell_type": "markdown",
   "id": "2585264a",
   "metadata": {},
   "source": [
    "<font face=\"Times New Roman\" size=4><div dir=ltr>\n",
    "# Problem 1: Linear Regression Model (40 + 30 optional points)\n",
    "According to <a href=\"https://github.com/asharifiz/Introduction_to_Machine_Learning/blob/main/Jupyter_Notebooks/Chapter_02_Classical_Models/Linear%20regression.ipynb\"><font face=\"Roboto\">Linear Regression Notebook</font></a>, train a linear regression model on an arbitrary dataset. Explain your chosen dataset and split your data into train and test sets, then predict values for the test set using your trained model. Try to find the best hyperparameters for your model. (Using Lasso Regression, Ridge Regression or Elastic Net and comparing them will have extra optional points)\n",
    "<br> Explain each step of your workflow."
   ]
  },
  {
   "cell_type": "markdown",
   "id": "3d282a5f",
   "metadata": {},
   "source": [
    "First we make our dataset using \"make_regression\" function from \"sklearn\" library:"
   ]
  },
  {
   "cell_type": "code",
   "execution_count": 1,
   "id": "98435b98",
   "metadata": {},
   "outputs": [],
   "source": [
    "import numpy as np\n",
    "from sklearn.datasets import make_regression"
   ]
  },
  {
   "cell_type": "code",
   "execution_count": 2,
   "id": "2952a1c1",
   "metadata": {},
   "outputs": [],
   "source": [
    "X, y = make_regression(n_samples=50000, n_features=8, noise=10)"
   ]
  },
  {
   "cell_type": "markdown",
   "id": "c66d6bf7",
   "metadata": {},
   "source": [
    "Now we transform y from an array to a n by 1 matrix and normalize it:"
   ]
  },
  {
   "cell_type": "code",
   "execution_count": 3,
   "id": "f18ccad0",
   "metadata": {},
   "outputs": [],
   "source": [
    "y = y[:, np.newaxis]"
   ]
  },
  {
   "cell_type": "markdown",
   "id": "27328a3e",
   "metadata": {},
   "source": [
    "Then, we add the bias feature by adding a column of ones to the matrix X:"
   ]
  },
  {
   "cell_type": "code",
   "execution_count": 4,
   "id": "8a3126d5",
   "metadata": {},
   "outputs": [],
   "source": [
    "ones = np.ones([len(X), 1])\n",
    "X = np.hstack((ones, X))"
   ]
  },
  {
   "cell_type": "markdown",
   "id": "de914c4d",
   "metadata": {},
   "source": [
    "For minimizing the Loss Function, we will use gradient descent. Also both Lasso regularization and Ridge regularization will be tested."
   ]
  },
  {
   "cell_type": "code",
   "execution_count": 5,
   "id": "bee9dbef",
   "metadata": {},
   "outputs": [],
   "source": [
    "def ridge_cost(X, y, w, l):\n",
    "    m = len(X)\n",
    "    error = y - np.dot(X, w)\n",
    "    return 1 / (2 * m) * np.dot(error.T, error) + l / (2 * m) * np.dot(w.T, w)\n",
    "\n",
    "\n",
    "def ridge_gradient(X, y, w, l):\n",
    "    m = len(X)\n",
    "    error = y - np.dot(X, w)\n",
    "    return -1 / m * np.dot(X.T, error) + l * w / m\n",
    "\n",
    "\n",
    "def lasso_cost(X, y, w, l):\n",
    "    m = len(X)\n",
    "    error = y - np.dot(X, w)\n",
    "    return 1 / (2 * m) * np.dot(error.T, error) + l / m * sum(abs(w))\n",
    "\n",
    "\n",
    "def lasso_gradient(X, y, w, l):\n",
    "    m = len(X)\n",
    "    error = y - np.dot(X, w)\n",
    "    return -1 / m * np.dot(X.T, error) + l * np.sign(w) / m"
   ]
  },
  {
   "cell_type": "markdown",
   "id": "c32fb64f",
   "metadata": {},
   "source": [
    "Here the initial values of costs and gradients are shown:"
   ]
  },
  {
   "cell_type": "code",
   "execution_count": 6,
   "id": "ff10958e",
   "metadata": {},
   "outputs": [
    {
     "name": "stdout",
     "output_type": "stream",
     "text": [
      "initial cost: 9931.959850569208\n"
     ]
    }
   ],
   "source": [
    "w = np.random.rand(len(X[0]), 1)\n",
    "l = 0\n",
    "print(\"initial cost:\", ridge_cost(X, y, w, l)[0][0])"
   ]
  },
  {
   "cell_type": "markdown",
   "id": "8fb42ec0",
   "metadata": {},
   "source": [
    "First, regularization factor $\\lambda$ is set to $0$ and step length is set to $0.01$ and number of steps is set to $1000$."
   ]
  },
  {
   "cell_type": "code",
   "execution_count": 7,
   "id": "c49c4e99",
   "metadata": {},
   "outputs": [],
   "source": [
    "delta = 0.01\n",
    "step_number = 1000"
   ]
  },
  {
   "cell_type": "markdown",
   "id": "4941a030",
   "metadata": {},
   "source": [
    "Gradient Descent algorithm (without regularization) has been implemented below.\n",
    "As we run Gradient Descent, cost at each step is stored:"
   ]
  },
  {
   "cell_type": "code",
   "execution_count": 8,
   "id": "e7d0f3d3",
   "metadata": {},
   "outputs": [],
   "source": [
    "step = []\n",
    "costs = []\n",
    "def ridge_gradient_descent(X, y, w, l, delta, step_number):\n",
    "    for i in range(step_number):\n",
    "        w = w - delta * ridge_gradient(X, y, w, l)\n",
    "        step.append(i)\n",
    "        costs.append(ridge_cost(X, y, w, l)[0])\n",
    "    return w\n",
    "\n",
    "\n",
    "def lasso_gradient_descent(X, y, w, l, delta, step_number):\n",
    "    for i in range(step_number):\n",
    "        w = w - delta * lasso_gradient(X, y, w, l)\n",
    "        step.append(i)\n",
    "        costs.append(ridge_cost(X, y, w, l)[0])\n",
    "    return w"
   ]
  },
  {
   "cell_type": "code",
   "execution_count": 9,
   "id": "a3f654d5",
   "metadata": {},
   "outputs": [
    {
     "name": "stdout",
     "output_type": "stream",
     "text": [
      "optimum w (using gradient descent):\n",
      "[[-4.70370413e-02]\n",
      " [ 2.16538039e+01]\n",
      " [ 2.99367342e+01]\n",
      " [ 8.73294133e+01]\n",
      " [ 1.12269259e+01]\n",
      " [ 2.86406117e+01]\n",
      " [ 6.20816607e+01]\n",
      " [ 6.36790666e+01]\n",
      " [ 4.79697362e+01]]\n",
      "\n",
      "final cost: 50.13308561841004\n"
     ]
    }
   ],
   "source": [
    "new_w = ridge_gradient_descent(X, y, w, l, delta, step_number)\n",
    "print(\"optimum w (using gradient descent):\")\n",
    "print(new_w)\n",
    "print()\n",
    "print(\"final cost:\", ridge_cost(X, y, new_w, l)[0][0])"
   ]
  },
  {
   "cell_type": "markdown",
   "id": "41c1be9b",
   "metadata": {},
   "source": [
    "To check our implementation, closed form answer of linear regression is shown below. Fortunately, both answers are pretty similar:"
   ]
  },
  {
   "cell_type": "code",
   "execution_count": 10,
   "id": "5cf0584c",
   "metadata": {},
   "outputs": [
    {
     "name": "stdout",
     "output_type": "stream",
     "text": [
      "optimum w (using closed form answer):\n",
      "[[-4.72418539e-02]\n",
      " [ 2.16548186e+01]\n",
      " [ 2.99373302e+01]\n",
      " [ 8.73338228e+01]\n",
      " [ 1.12272341e+01]\n",
      " [ 2.86418502e+01]\n",
      " [ 6.20840321e+01]\n",
      " [ 6.36819130e+01]\n",
      " [ 4.79714978e+01]]\n",
      "50.13306607214577\n"
     ]
    }
   ],
   "source": [
    "p = np.linalg.inv(np.dot(X.T, X))\n",
    "q = np.dot(X.T, y)\n",
    "print(\"optimum w (using closed form answer):\")\n",
    "print(np.dot(p, q))\n",
    "print(ridge_cost(X, y, np.dot(p, q), l)[0][0])"
   ]
  },
  {
   "cell_type": "markdown",
   "id": "634f0068",
   "metadata": {},
   "source": [
    "As the cost-step plot indicates, step number of 5000 is good enough, because the algorithm has pretty much converged."
   ]
  },
  {
   "cell_type": "code",
   "execution_count": 11,
   "id": "632c0358",
   "metadata": {},
   "outputs": [
    {
     "data": {
      "image/png": "[encoded data removed]",
      "text/plain": [
       "<Figure size 432x288 with 1 Axes>"
      ]
     },
     "metadata": {
      "needs_background": "light"
     },
     "output_type": "display_data"
    }
   ],
   "source": [
    "import matplotlib.pyplot as plt\n",
    "plt.plot(step, np.log(costs))\n",
    "plt.title(\"logarithmic cost-step function for unregularized gradient descent\")\n",
    "plt.grid()\n",
    "plt.show()"
   ]
  },
  {
   "cell_type": "markdown",
   "id": "fd97abde",
   "metadata": {},
   "source": [
    "In the next step, we compare different amounts of regularization factor for Ridge Regression and Lasso Regression. For calculating best regularization factor, K-fold Cross Validation is used.\n",
    "As results show below, our model doesn't suffer from overfitting in the first place, so increasing $\\lambda$ reduces the error negligibly.<br>\n",
    "As we see below, the least error for test data is obtained when $\\lambda$ is approximately equal to 10."
   ]
  },
  {
   "cell_type": "code",
   "execution_count": 12,
   "id": "f01347ad",
   "metadata": {},
   "outputs": [
    {
     "name": "stdout",
     "output_type": "stream",
     "text": [
      "ridge regularization:\n",
      "\n",
      "accuracy of validation set for lambda=0: 50.31940532528792\n",
      "------------------------------------------------\n",
      "accuracy of validation set for lambda=5: 50.31659569686156\n",
      "------------------------------------------------\n",
      "accuracy of validation set for lambda=10: 50.31410726631459\n",
      "------------------------------------------------\n",
      "accuracy of validation set for lambda=20: 50.31009303559122\n",
      "------------------------------------------------\n",
      "accuracy of validation set for lambda=50: 50.30573407994907\n",
      "------------------------------------------------\n",
      "accuracy of validation set for lambda=100: 50.32396664159303\n",
      "------------------------------------------------\n",
      "accuracy of validation set for lambda=200: 50.4551911820718\n",
      "------------------------------------------------\n",
      "\n",
      "best results:\n",
      "least error: 50.30573407994907\n",
      "best lambda: 50\n"
     ]
    }
   ],
   "source": [
    "m = len(X) // 5 * 4\n",
    "X_train = X[:m, :]\n",
    "y_train = y[:m, :]\n",
    "X_test = X[m:, :]\n",
    "y_test = y[m:, :]\n",
    "\n",
    "delta = 0.01\n",
    "step_number = 1000\n",
    "\n",
    "print(\"ridge regularization:\\n\")\n",
    "\n",
    "l = [0, 5, 10, 20, 50, 100, 200]\n",
    "\n",
    "least_error = 1000000000\n",
    "best_l = 0\n",
    "\n",
    "for i in range(len(l)):\n",
    "    w_new = ridge_gradient_descent(X_train, y_train, w, l[i], delta, step_number)\n",
    "    new_error = ridge_cost(X_test, y_test, w_new, 0)[0][0]\n",
    "    if new_error < least_error:\n",
    "        least_error = new_error\n",
    "        best_l = l[i]\n",
    "    print(f\"accuracy of validation set for lambda={l[i]}: {new_error}\")\n",
    "    print(\"------------------------------------------------\")\n",
    "\n",
    "print(\"\\nbest results:\")\n",
    "print(\"least error:\", least_error)\n",
    "print(\"best lambda:\", best_l)"
   ]
  },
  {
   "cell_type": "markdown",
   "id": "5cf9ffb4",
   "metadata": {},
   "source": [
    "As we have shown below, for this dataset, lasso regularization doesn't work very well. Best regularization factor is nearly zero."
   ]
  },
  {
   "cell_type": "code",
   "execution_count": 13,
   "id": "a8b111bb",
   "metadata": {},
   "outputs": [
    {
     "name": "stdout",
     "output_type": "stream",
     "text": [
      "lasso regularization:\n",
      "\n",
      "accuracy of validation set for lambda=0: 50.31940532528792\n",
      "------------------------------------------------\n",
      "accuracy of validation set for lambda=10: 50.31931391621164\n",
      "------------------------------------------------\n",
      "accuracy of validation set for lambda=20: 50.31922307302135\n",
      "------------------------------------------------\n",
      "accuracy of validation set for lambda=50: 50.318953939708805\n",
      "------------------------------------------------\n",
      "accuracy of validation set for lambda=100: 50.31851670352769\n",
      "------------------------------------------------\n",
      "accuracy of validation set for lambda=200: 50.317684682883936\n",
      "------------------------------------------------\n",
      "accuracy of validation set for lambda=500: 50.31552826017359\n",
      "------------------------------------------------\n",
      "accuracy of validation set for lambda=1000: 50.31306650172683\n",
      "------------------------------------------------\n",
      "accuracy of validation set for lambda=2000: 50.312389212578395\n",
      "------------------------------------------------\n",
      "accuracy of validation set for lambda=5000: 50.340035511710035\n",
      "------------------------------------------------\n",
      "accuracy of validation set for lambda=10000: 50.48696603853041\n",
      "------------------------------------------------\n",
      "\n",
      "best results:\n",
      "least error: 50.312389212578395\n",
      "best lambda: 2000\n"
     ]
    }
   ],
   "source": [
    "m = len(X) // 5 * 4\n",
    "X_train = X[:m, :]\n",
    "y_train = y[:m, :]\n",
    "X_test = X[m:, :]\n",
    "y_test = y[m:, :]\n",
    "\n",
    "delta = 0.01\n",
    "step_number = 1000\n",
    "\n",
    "print(\"lasso regularization:\\n\")\n",
    "\n",
    "l = [0, 10, 20, 50, 100, 200, 500, 1000, 2000, 5000, 10000]\n",
    "\n",
    "least_error = 1000000000\n",
    "best_l = 0\n",
    "\n",
    "for i in range(len(l)):\n",
    "    w_new = lasso_gradient_descent(X_train, y_train, w, l[i], delta, step_number)\n",
    "    new_error = lasso_cost(X_test, y_test, w_new, 0)[0][0]\n",
    "    if new_error < least_error:\n",
    "        least_error = new_error\n",
    "        best_l = l[i]\n",
    "    print(f\"accuracy of validation set for lambda={l[i]}: {new_error}\")\n",
    "    print(\"------------------------------------------------\")\n",
    "\n",
    "print(\"\\nbest results:\")\n",
    "print(\"least error:\", least_error)\n",
    "print(\"best lambda:\", best_l)"
   ]
  }
 ],
 "metadata": {
  "kernelspec": {
   "display_name": "Python 3 (ipykernel)",
   "language": "python",
   "name": "python3"
  },
  "language_info": {
   "codemirror_mode": {
    "name": "ipython",
    "version": 3
   },
   "file_extension": ".py",
   "mimetype": "text/x-python",
   "name": "python",
   "nbconvert_exporter": "python",
   "pygments_lexer": "ipython3",
   "version": "3.10.2"
  }
 },
 "nbformat": 4,
 "nbformat_minor": 5
}
