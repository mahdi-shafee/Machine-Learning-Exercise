{
 "cells": [
  {
   "cell_type": "markdown",
   "id": "6baf2598",
   "metadata": {
    "ExecuteTime": {
     "end_time": "2022-10-22T21:06:33.084910Z",
     "start_time": "2022-10-22T21:06:33.065246Z"
    }
   },
   "source": [
    "<br><font face=\"Times New Roman\" size=5><div dir=ltr align=center>\n",
    "<font color=blue size=8>\n",
    "    Introduction to Machine Learning <br>\n",
    "<font color=red size=5>\n",
    "    Sharif University of Technology - Computer Engineering Department <br>\n",
    "    Fall 2022<br> <br>\n",
    "<font color=black size=6>\n",
    "    Homework 2: Practical - Decision Tree   \n",
    "<font color=black size=4>\n",
    "    Hamidreza Yaghoubi \n",
    "    \n",
    "<br><br>\n",
    "<font size=4>\n",
    "In this homework, we are going to implement the Classification Decision Tree. Keep in mind to complete all of the following questions and write your own codes in the TODO cells."
   ]
  },
  {
   "cell_type": "markdown",
   "id": "bd3871b7",
   "metadata": {},
   "source": [
    "<font face=\"Times New Roman\" size=4><div dir=ltr>\n",
    "# Problem 2: Classification Decision Tree (100 points)\n",
    "We will implement a Classification Decision Tree from scratch in the following problem. Then we will use our model to predict malignant and benign breast cancer. For this purpose, we will use the breast_cancer.csv dataset which you can find more details about it <a href=\"https://www.kaggle.com/datasets/merishnasuwal/breast-cancer-prediction-dataset\"><font face=\"Roboto\">here</font></a>."
   ]
  },
  {
   "cell_type": "code",
   "execution_count": 1,
   "id": "ccdebb27",
   "metadata": {
    "ExecuteTime": {
     "end_time": "2022-10-22T21:30:24.876526Z",
     "start_time": "2022-10-22T21:30:24.439793Z"
    }
   },
   "outputs": [],
   "source": [
    "import pandas as pd\n",
    "from sklearn import datasets\n",
    "from sklearn.model_selection import train_test_split\n",
    "from sklearn.metrics import accuracy_score\n",
    "from math import log\n",
    "import random\n",
    "import numpy as np"
   ]
  },
  {
   "cell_type": "markdown",
   "id": "e2307c50",
   "metadata": {},
   "source": [
    "<font face=\"Times New Roman\" size=4><div dir=ltr>\n",
    "## Classification Decision Tree Class (60 points)\n",
    "In this section, you only need to fill TODO parts. You can find the logic and formula in both course slides and the web, but fill it out on your own. "
   ]
  },
  {
   "cell_type": "code",
   "execution_count": 2,
   "id": "618baebb",
   "metadata": {
    "ExecuteTime": {
     "end_time": "2022-10-22T21:30:25.034364Z",
     "start_time": "2022-10-22T21:30:25.021627Z"
    }
   },
   "outputs": [],
   "source": [
    "class Node:\n",
    "    def __init__(self, feature=None, threshold=None, left=None, right=None, value=None):\n",
    "        self.feature = feature\n",
    "        self.threshold = threshold\n",
    "        self.left = left\n",
    "        self.right = right\n",
    "        self.value = value\n",
    "\n",
    "    def is_leaf(self):\n",
    "        if self.value is not None:\n",
    "            return True\n",
    "        return False"
   ]
  },
  {
   "cell_type": "code",
   "execution_count": 3,
   "id": "71b3b483",
   "metadata": {
    "ExecuteTime": {
     "end_time": "2022-10-22T21:30:25.439792Z",
     "start_time": "2022-10-22T21:30:25.404649Z"
    }
   },
   "outputs": [],
   "source": [
    "class DecisionTree:\n",
    "    def __init__(self, max_depth=None, min_samples_split=2):\n",
    "        self.max_depth = max_depth\n",
    "        self.min_samples_split = min_samples_split\n",
    "        self.root = None\n",
    "\n",
    "    def is_splitting_finished(self, depth, X, y):\n",
    "        #TODO\n",
    "        n_samples, n_features = X.shape\n",
    "        n_class_labels = len(np.unique(y))\n",
    "        if depth >= self.max_depth or n_class_labels == 1 or n_samples < self.min_samples_split:\n",
    "            return True\n",
    "        return False\n",
    "\n",
    "    def split(self, X, y, feature, threshold):\n",
    "        left_idx = np.argwhere(X[:, feature] <= threshold).flatten()\n",
    "        right_idx = np.argwhere(X[:, feature] > threshold).flatten()\n",
    "        X_left = X[left_idx]\n",
    "        y_left = y[left_idx]\n",
    "        X_right = X[right_idx]\n",
    "        y_right = y[right_idx]\n",
    "\n",
    "        return X_left, X_right, y_left, y_right\n",
    "\n",
    "    def entropy(self, y):\n",
    "        proportions = np.bincount(y) / len(y)\n",
    "        ent = -np.sum([p * np.log2(p) for p in proportions if p > 0])\n",
    "        return ent\n",
    "        #TODO\n",
    "\n",
    "\n",
    "    def information_gain(self, X, y, feature, threshold):\n",
    "        parent_loss = self.entropy(y)\n",
    "        X_left, X_right, y_left, y_right = self.split(X, y, feature, threshold)\n",
    "        n, n_left, n_right = len(X), len(X_left), len(X_right)\n",
    "        \n",
    "        if n_left == 0 or n_right == 0: \n",
    "            return 0\n",
    "        \n",
    "        child_loss = (n_left / n) * self.entropy(y_left) + (n_right / n) * self.entropy(y_right)\n",
    "        return parent_loss - child_loss\n",
    "        #TODO\n",
    "\n",
    "    def best_split(self, X, y):\n",
    "        split = {'score':- 1, 'feat': None, 'thresh': None}\n",
    "        for i in range(len(X[0])):\n",
    "            X_feature = X[:, i]\n",
    "            thresholds = np.unique(X_feature)\n",
    "            for thresh in thresholds:\n",
    "                score = self.information_gain(X, y, i, thresh)\n",
    "                if score > split['score']:\n",
    "                    split['score'] = score\n",
    "                    split['feat'] = i\n",
    "                    split['thresh'] = thresh\n",
    "\n",
    "        return split['feat'], split['thresh']\n",
    "        #TODO\n",
    "\n",
    "    def build_tree(self, X, y, depth=0):\n",
    "        if self.is_splitting_finished(depth, X, y):\n",
    "            return None\n",
    "\n",
    "        best_feature, best_threshold = self.best_split(X, y)\n",
    "        X_left, X_right, y_left, y_right = self.split(X, y, best_feature, best_threshold)\n",
    "\n",
    "        left_node = self.build_tree(X_left, y_left, depth=depth + 1)\n",
    "        right_node = self.build_tree(X_right, y_right, depth=depth + 1)\n",
    "\n",
    "        value = None\n",
    "        if left_node is None or right_node is None:\n",
    "            true_value = len(y[y == 1])\n",
    "            false_value = len(y[y == 0])\n",
    "            if true_value >= false_value:\n",
    "                value = 1\n",
    "            else:\n",
    "                value = 0\n",
    "\n",
    "        return Node(feature=best_feature, threshold=best_threshold, left=left_node, right=right_node, value=value)\n",
    "\n",
    "    def fit(self, X, y):\n",
    "        self.root = self.build_tree(X, y)\n",
    "    \n",
    "    def traverse_tree(self, x, node):\n",
    "        if node.is_leaf():\n",
    "            return node.value\n",
    "        \n",
    "        if x[node.feature] <= node.threshold:\n",
    "            return self.traverse_tree(x, node.left)\n",
    "        return self.traverse_tree(x, node.right)\n",
    "\n",
    "    def predict(self, X):\n",
    "        predictions = [self.traverse_tree(x, self.root) for x in X]\n",
    "        return np.array(predictions)"
   ]
  },
  {
   "cell_type": "markdown",
   "id": "8e2197f0",
   "metadata": {},
   "source": [
    "<font face=\"Times New Roman\" size=4><div dir=ltr>\n",
    "## Data Prepration (20 points)\n",
    "In this section, you must perform a good EDA for data. Then split it into train and validation data. We will then use the validation data to find the best model hyperparameters.  "
   ]
  },
  {
   "cell_type": "code",
   "execution_count": 4,
   "id": "da5a4d94",
   "metadata": {
    "ExecuteTime": {
     "end_time": "2022-10-22T21:30:26.199958Z",
     "start_time": "2022-10-22T21:30:26.192910Z"
    }
   },
   "outputs": [],
   "source": [
    "breast_cancer_pdf = pd.read_csv(\"breast_cancer.csv\")"
   ]
  },
  {
   "cell_type": "code",
   "execution_count": 5,
   "id": "27207399",
   "metadata": {
    "ExecuteTime": {
     "end_time": "2022-10-22T21:30:28.478997Z",
     "start_time": "2022-10-22T21:30:28.476044Z"
    }
   },
   "outputs": [],
   "source": [
    "# TODO"
   ]
  },
  {
   "cell_type": "code",
   "execution_count": 6,
   "id": "39ba4c34",
   "metadata": {
    "ExecuteTime": {
     "end_time": "2022-10-22T21:30:38.003703Z",
     "start_time": "2022-10-22T21:30:37.996292Z"
    }
   },
   "outputs": [
    {
     "name": "stdout",
     "output_type": "stream",
     "text": [
      "(569, 6)\n"
     ]
    }
   ],
   "source": [
    "data = datasets.load_breast_cancer()\n",
    "print(breast_cancer_pdf.shape)\n",
    "X, y = breast_cancer_pdf.iloc[:, 0:5].to_numpy(), breast_cancer_pdf[\"diagnosis\"].to_numpy()\n",
    "\n",
    "x_train, x_val, y_train, y_val = train_test_split(X, y, test_size=0.20, random_state=42)"
   ]
  },
  {
   "cell_type": "markdown",
   "id": "cefd7a92",
   "metadata": {},
   "source": [
    "<font face=\"Times New Roman\" size=4><div dir=ltr>\n",
    "## Training And Tuning Hyperparameters (20 points)\n",
    "In this section, you only need to find the best hyperparameters for your model. You can test different values and permutations of hyperparameters by adding them to the lists below. Your model must have at least accuracy=0.85 on validation data."
   ]
  },
  {
   "cell_type": "code",
   "execution_count": 7,
   "id": "assigned-estate",
   "metadata": {
    "ExecuteTime": {
     "end_time": "2022-10-22T21:36:15.733600Z",
     "start_time": "2022-10-22T21:36:15.730426Z"
    }
   },
   "outputs": [],
   "source": [
    "max_depths = [1, 2, 5, 20, 30]\n",
    "min_samples_splits = [30, 50, 70, 100, 130]"
   ]
  },
  {
   "cell_type": "code",
   "execution_count": 8,
   "id": "58003410",
   "metadata": {},
   "outputs": [
    {
     "name": "stdout",
     "output_type": "stream",
     "text": [
      "accuracy of training set for [min_samples_splits=30-max_depths=1] =0.6285714285714286\n",
      "accuracy of validation set for [min_samples_splits=30-max_depths=1] =0.6228070175438597\n",
      "------------------------------------------------\n",
      "accuracy of training set for [min_samples_splits=50-max_depths=1] =0.6285714285714286\n",
      "accuracy of validation set for [min_samples_splits=50-max_depths=1] =0.6228070175438597\n",
      "------------------------------------------------\n",
      "accuracy of training set for [min_samples_splits=70-max_depths=1] =0.6285714285714286\n",
      "accuracy of validation set for [min_samples_splits=70-max_depths=1] =0.6228070175438597\n",
      "------------------------------------------------\n",
      "accuracy of training set for [min_samples_splits=100-max_depths=1] =0.6285714285714286\n",
      "accuracy of validation set for [min_samples_splits=100-max_depths=1] =0.6228070175438597\n",
      "------------------------------------------------\n",
      "accuracy of training set for [min_samples_splits=130-max_depths=1] =0.6285714285714286\n",
      "accuracy of validation set for [min_samples_splits=130-max_depths=1] =0.6228070175438597\n",
      "------------------------------------------------\n",
      "accuracy of training set for [min_samples_splits=30-max_depths=2] =0.8835164835164835\n",
      "accuracy of validation set for [min_samples_splits=30-max_depths=2] =0.9210526315789473\n",
      "------------------------------------------------\n",
      "accuracy of training set for [min_samples_splits=50-max_depths=2] =0.8835164835164835\n",
      "accuracy of validation set for [min_samples_splits=50-max_depths=2] =0.9210526315789473\n",
      "------------------------------------------------\n",
      "accuracy of training set for [min_samples_splits=70-max_depths=2] =0.8835164835164835\n",
      "accuracy of validation set for [min_samples_splits=70-max_depths=2] =0.9210526315789473\n",
      "------------------------------------------------\n",
      "accuracy of training set for [min_samples_splits=100-max_depths=2] =0.8835164835164835\n",
      "accuracy of validation set for [min_samples_splits=100-max_depths=2] =0.9210526315789473\n",
      "------------------------------------------------\n",
      "accuracy of training set for [min_samples_splits=130-max_depths=2] =0.8835164835164835\n",
      "accuracy of validation set for [min_samples_splits=130-max_depths=2] =0.9210526315789473\n",
      "------------------------------------------------\n",
      "accuracy of training set for [min_samples_splits=30-max_depths=5] =0.8835164835164835\n",
      "accuracy of validation set for [min_samples_splits=30-max_depths=5] =0.9210526315789473\n",
      "------------------------------------------------\n",
      "accuracy of training set for [min_samples_splits=50-max_depths=5] =0.8835164835164835\n",
      "accuracy of validation set for [min_samples_splits=50-max_depths=5] =0.9210526315789473\n",
      "------------------------------------------------\n",
      "accuracy of training set for [min_samples_splits=70-max_depths=5] =0.8835164835164835\n",
      "accuracy of validation set for [min_samples_splits=70-max_depths=5] =0.9210526315789473\n",
      "------------------------------------------------\n",
      "accuracy of training set for [min_samples_splits=100-max_depths=5] =0.8835164835164835\n",
      "accuracy of validation set for [min_samples_splits=100-max_depths=5] =0.9210526315789473\n",
      "------------------------------------------------\n",
      "accuracy of training set for [min_samples_splits=130-max_depths=5] =0.8835164835164835\n",
      "accuracy of validation set for [min_samples_splits=130-max_depths=5] =0.9210526315789473\n",
      "------------------------------------------------\n",
      "accuracy of training set for [min_samples_splits=30-max_depths=20] =0.8835164835164835\n",
      "accuracy of validation set for [min_samples_splits=30-max_depths=20] =0.9210526315789473\n",
      "------------------------------------------------\n",
      "accuracy of training set for [min_samples_splits=50-max_depths=20] =0.8835164835164835\n",
      "accuracy of validation set for [min_samples_splits=50-max_depths=20] =0.9210526315789473\n",
      "------------------------------------------------\n",
      "accuracy of training set for [min_samples_splits=70-max_depths=20] =0.8835164835164835\n",
      "accuracy of validation set for [min_samples_splits=70-max_depths=20] =0.9210526315789473\n",
      "------------------------------------------------\n",
      "accuracy of training set for [min_samples_splits=100-max_depths=20] =0.8835164835164835\n",
      "accuracy of validation set for [min_samples_splits=100-max_depths=20] =0.9210526315789473\n",
      "------------------------------------------------\n",
      "accuracy of training set for [min_samples_splits=130-max_depths=20] =0.8835164835164835\n",
      "accuracy of validation set for [min_samples_splits=130-max_depths=20] =0.9210526315789473\n",
      "------------------------------------------------\n",
      "accuracy of training set for [min_samples_splits=30-max_depths=30] =0.8835164835164835\n",
      "accuracy of validation set for [min_samples_splits=30-max_depths=30] =0.9210526315789473\n",
      "------------------------------------------------\n",
      "accuracy of training set for [min_samples_splits=50-max_depths=30] =0.8835164835164835\n",
      "accuracy of validation set for [min_samples_splits=50-max_depths=30] =0.9210526315789473\n",
      "------------------------------------------------\n",
      "accuracy of training set for [min_samples_splits=70-max_depths=30] =0.8835164835164835\n",
      "accuracy of validation set for [min_samples_splits=70-max_depths=30] =0.9210526315789473\n",
      "------------------------------------------------\n",
      "accuracy of training set for [min_samples_splits=100-max_depths=30] =0.8835164835164835\n",
      "accuracy of validation set for [min_samples_splits=100-max_depths=30] =0.9210526315789473\n",
      "------------------------------------------------\n",
      "accuracy of training set for [min_samples_splits=130-max_depths=30] =0.8835164835164835\n",
      "accuracy of validation set for [min_samples_splits=130-max_depths=30] =0.9210526315789473\n",
      "------------------------------------------------\n"
     ]
    }
   ],
   "source": [
    "best_max_depth = None\n",
    "best_min_samples_split = None\n",
    "best_accuracy = 0\n",
    "best_model = None\n",
    "for max_depth in max_depths:\n",
    "    for min_samples_split in min_samples_splits:\n",
    "        clf = DecisionTree(max_depth, min_samples_split)\n",
    "        clf.fit(x_train, y_train)\n",
    "        y_val_pred = clf.predict(x_val)\n",
    "        y_train_pred = clf.predict(x_train)\n",
    "        accuracy = accuracy_score(y_val_pred, y_val)\n",
    "        train_accuracy = accuracy_score(y_train_pred, y_train)\n",
    "        print(f\"accuracy of training set for [min_samples_splits={min_samples_split}-max_depths={max_depth}] ={train_accuracy}\")\n",
    "        print(f\"accuracy of validation set for [min_samples_splits={min_samples_split}-max_depths={max_depth}] ={accuracy}\")\n",
    "        print(\"------------------------------------------------\")\n",
    "        if accuracy >= best_accuracy:\n",
    "            best_accuracy = accuracy\n",
    "            best_max_depth = max_depth\n",
    "            best_min_samples_split = min_samples_split\n",
    "            best_model = clf"
   ]
  },
  {
   "cell_type": "code",
   "execution_count": 9,
   "id": "0e92ee9c",
   "metadata": {},
   "outputs": [
    {
     "name": "stdout",
     "output_type": "stream",
     "text": [
      "accuracy of validation set for best model: 0.9210526315789473\n",
      "best max depth: 30\n",
      "best min sample: 130\n"
     ]
    }
   ],
   "source": [
    "print(\"accuracy of validation set for best model:\", best_accuracy)\n",
    "print(\"best max depth:\", best_max_depth)\n",
    "print(\"best min sample:\", best_min_samples_split)"
   ]
  }
 ],
 "metadata": {
  "kernelspec": {
   "display_name": "Python 3 (ipykernel)",
   "language": "python",
   "name": "python3"
  },
  "language_info": {
   "codemirror_mode": {
    "name": "ipython",
    "version": 3
   },
   "file_extension": ".py",
   "mimetype": "text/x-python",
   "name": "python",
   "nbconvert_exporter": "python",
   "pygments_lexer": "ipython3",
   "version": "3.10.2"
  },
  "toc": {
   "base_numbering": 1,
   "nav_menu": {},
   "number_sections": true,
   "sideBar": true,
   "skip_h1_title": false,
   "title_cell": "Table of Contents",
   "title_sidebar": "Contents",
   "toc_cell": false,
   "toc_position": {},
   "toc_section_display": true,
   "toc_window_display": false
  },
  "varInspector": {
   "cols": {
    "lenName": 16,
    "lenType": 16,
    "lenVar": 40
   },
   "kernels_config": {
    "python": {
     "delete_cmd_postfix": "",
     "delete_cmd_prefix": "del ",
     "library": "var_list.py",
     "varRefreshCmd": "print(var_dic_list())"
    },
    "r": {
     "delete_cmd_postfix": ") ",
     "delete_cmd_prefix": "rm(",
     "library": "var_list.r",
     "varRefreshCmd": "cat(var_dic_list()) "
    }
   },
   "types_to_exclude": [
    "module",
    "function",
    "builtin_function_or_method",
    "instance",
    "_Feature"
   ],
   "window_display": false
  }
 },
 "nbformat": 4,
 "nbformat_minor": 5
}
