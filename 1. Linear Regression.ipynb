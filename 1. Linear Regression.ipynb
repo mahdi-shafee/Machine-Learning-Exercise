{
 "cells": [
  {
   "cell_type": "markdown",
   "id": "16adc323",
   "metadata": {},
   "source": [
    "<br><font face=\"Times New Roman\" size=5><div dir=ltr align=center>\n",
    "<font color=blue size=8>\n",
    "    Introduction to Machine Learning <br>\n",
    "<font color=red size=5>\n",
    "    Sharif University of Technology - Computer Engineering Department <br>\n",
    "    Fall 2022<br> <br>\n",
    "<font color=black size=6>\n",
    "    Homework 2: Practical - Linear Regression\n",
    "    </div>\n",
    "<br><br>\n",
    "<font size=4>\n",
    "   **Name**: Mahdi Shafiee<br>\n",
    "   **Student ID**: 99109409<br> <br>"
   ]
  },
  {
   "cell_type": "markdown",
   "id": "2585264a",
   "metadata": {},
   "source": [
    "<font face=\"Times New Roman\" size=4><div dir=ltr>\n",
    "# Problem 1: Linear Regression Model (40 + 30 optional points)\n",
    "According to <a href=\"https://github.com/asharifiz/Introduction_to_Machine_Learning/blob/main/Jupyter_Notebooks/Chapter_02_Classical_Models/Linear%20regression.ipynb\"><font face=\"Roboto\">Linear Regression Notebook</font></a>, train a linear regression model on an arbitrary dataset. Explain your chosen dataset and split your data into train and test sets, then predict values for the test set using your trained model. Try to find the best hyperparameters for your model. (Using Lasso Regression, Ridge Regression or Elastic Net and comparing them will have extra optional points)\n",
    "<br> Explain each step of your workflow."
   ]
  },
  {
   "cell_type": "markdown",
   "id": "3d282a5f",
   "metadata": {},
   "source": [
    "First we make our dataset using \"make_regression\" function from \"sklearn\" library:"
   ]
  },
  {
   "cell_type": "code",
   "execution_count": 1,
   "id": "98435b98",
   "metadata": {},
   "outputs": [],
   "source": [
    "import numpy as np\n",
    "from sklearn.datasets import make_regression"
   ]
  },
  {
   "cell_type": "code",
   "execution_count": 2,
   "id": "2952a1c1",
   "metadata": {},
   "outputs": [],
   "source": [
    "X, y = make_regression(n_samples=50000, n_features=8, noise=10)"
   ]
  },
  {
   "cell_type": "markdown",
   "id": "c66d6bf7",
   "metadata": {},
   "source": [
    "Now we transform y from an array to a n by 1 matrix and normalize it:"
   ]
  },
  {
   "cell_type": "code",
   "execution_count": 3,
   "id": "f18ccad0",
   "metadata": {},
   "outputs": [],
   "source": [
    "y = y[:, np.newaxis]"
   ]
  },
  {
   "cell_type": "markdown",
   "id": "27328a3e",
   "metadata": {},
   "source": [
    "Then, we add the bias feature by adding a column of ones to the matrix X:"
   ]
  },
  {
   "cell_type": "code",
   "execution_count": 4,
   "id": "8a3126d5",
   "metadata": {},
   "outputs": [],
   "source": [
    "ones = np.ones([len(X), 1])\n",
    "X = np.hstack((ones, X))"
   ]
  },
  {
   "cell_type": "markdown",
   "id": "de914c4d",
   "metadata": {},
   "source": [
    "For minimizing the Loss Function, we will use gradient descent. Also both Lasso regularization and Ridge regularization will be tested."
   ]
  },
  {
   "cell_type": "code",
   "execution_count": 5,
   "id": "bee9dbef",
   "metadata": {},
   "outputs": [],
   "source": [
    "def ridge_cost(X, y, w, l):\n",
    "    m = len(X)\n",
    "    error = y - np.dot(X, w)\n",
    "    return 1 / (2 * m) * np.dot(error.T, error) + l / (2 * m) * np.dot(w.T, w)\n",
    "\n",
    "\n",
    "def ridge_gradient(X, y, w, l):\n",
    "    m = len(X)\n",
    "    error = y - np.dot(X, w)\n",
    "    return -1 / m * np.dot(X.T, error) + l * w / m\n",
    "\n",
    "\n",
    "def lasso_cost(X, y, w, l):\n",
    "    m = len(X)\n",
    "    error = y - np.dot(X, w)\n",
    "    return 1 / (2 * m) * np.dot(error.T, error) + l / m * sum(abs(w))\n",
    "\n",
    "\n",
    "def lasso_gradient(X, y, w, l):\n",
    "    m = len(X)\n",
    "    error = y - np.dot(X, w)\n",
    "    return -1 / m * np.dot(X.T, error) + l * np.sign(w) / m"
   ]
  },
  {
   "cell_type": "markdown",
   "id": "c32fb64f",
   "metadata": {},
   "source": [
    "Here the initial values of costs and gradients are shown:"
   ]
  },
  {
   "cell_type": "code",
   "execution_count": 6,
   "id": "ff10958e",
   "metadata": {},
   "outputs": [
    {
     "name": "stdout",
     "output_type": "stream",
     "text": [
      "initial cost: 13978.57392553157\n"
     ]
    }
   ],
   "source": [
    "w = np.random.rand(len(X[0]), 1)\n",
    "l = 0\n",
    "print(\"initial cost:\", ridge_cost(X, y, w, l)[0][0])"
   ]
  },
  {
   "cell_type": "markdown",
   "id": "8fb42ec0",
   "metadata": {},
   "source": [
    "First, regularization factor $\\lambda$ is set to $0$ and step length is set to $0.01$ and number of steps is set to $1000$."
   ]
  },
  {
   "cell_type": "code",
   "execution_count": 7,
   "id": "c49c4e99",
   "metadata": {},
   "outputs": [],
   "source": [
    "delta = 0.01\n",
    "step_number = 1000"
   ]
  },
  {
   "cell_type": "markdown",
   "id": "4941a030",
   "metadata": {},
   "source": [
    "Gradient Descent algorithm (without regularization) has been implemented below.\n",
    "As we run Gradient Descent, cost at each step is stored:"
   ]
  },
  {
   "cell_type": "code",
   "execution_count": 8,
   "id": "e7d0f3d3",
   "metadata": {},
   "outputs": [],
   "source": [
    "step = []\n",
    "costs = []\n",
    "def ridge_gradient_descent(X, y, w, l, delta, step_number):\n",
    "    for i in range(step_number):\n",
    "        w = w - delta * ridge_gradient(X, y, w, l)\n",
    "        step.append(i)\n",
    "        costs.append(ridge_cost(X, y, w, l)[0])\n",
    "    return w\n",
    "\n",
    "\n",
    "def lasso_gradient_descent(X, y, w, l, delta, step_number):\n",
    "    for i in range(step_number):\n",
    "        w = w - delta * lasso_gradient(X, y, w, l)\n",
    "        step.append(i)\n",
    "        costs.append(ridge_cost(X, y, w, l)[0])\n",
    "    return w"
   ]
  },
  {
   "cell_type": "code",
   "execution_count": 9,
   "id": "a3f654d5",
   "metadata": {},
   "outputs": [
    {
     "name": "stdout",
     "output_type": "stream",
     "text": [
      "optimum w (using gradient descent):\n",
      "[[-8.07282829e-02]\n",
      " [ 7.14915883e+01]\n",
      " [ 9.51576020e+01]\n",
      " [ 1.73132268e+01]\n",
      " [ 3.69429117e+01]\n",
      " [ 7.13910370e+01]\n",
      " [ 6.75006394e+01]\n",
      " [ 1.84389903e+01]\n",
      " [ 5.45183260e+01]]\n",
      "\n",
      "final cost: 50.191878724868396\n"
     ]
    }
   ],
   "source": [
    "new_w = ridge_gradient_descent(X, y, w, l, delta, step_number)\n",
    "print(\"optimum w (using gradient descent):\")\n",
    "print(new_w)\n",
    "print()\n",
    "print(\"final cost:\", ridge_cost(X, y, new_w, l)[0][0])"
   ]
  },
  {
   "cell_type": "markdown",
   "id": "41c1be9b",
   "metadata": {},
   "source": [
    "To check our implementation, closed form answer of linear regression is shown below. Fortunately, both answers are pretty similar:"
   ]
  },
  {
   "cell_type": "code",
   "execution_count": 10,
   "id": "5cf0584c",
   "metadata": {},
   "outputs": [
    {
     "name": "stdout",
     "output_type": "stream",
     "text": [
      "optimum w (using closed form answer):\n",
      "[[-8.02982301e-02]\n",
      " [ 7.14952114e+01]\n",
      " [ 9.51630583e+01]\n",
      " [ 1.73139590e+01]\n",
      " [ 3.69450804e+01]\n",
      " [ 7.13948318e+01]\n",
      " [ 6.75035558e+01]\n",
      " [ 1.84393660e+01]\n",
      " [ 5.45202739e+01]]\n",
      "50.191841898125006\n"
     ]
    }
   ],
   "source": [
    "p = np.linalg.inv(np.dot(X.T, X))\n",
    "q = np.dot(X.T, y)\n",
    "print(\"optimum w (using closed form answer):\")\n",
    "print(np.dot(p, q))\n",
    "print(ridge_cost(X, y, np.dot(p, q), l)[0][0])"
   ]
  },
  {
   "cell_type": "markdown",
   "id": "634f0068",
   "metadata": {},
   "source": [
    "As the cost-step plot indicates, step number of 5000 is good enough, because the algorithm has pretty much converged."
   ]
  },
  {
   "cell_type": "code",
   "execution_count": 11,
   "id": "632c0358",
   "metadata": {},
   "outputs": [
    {
     "data": {
      "image/png": "[encoded data removed]",
      "text/plain": [
       "<Figure size 432x288 with 1 Axes>"
      ]
     },
     "metadata": {
      "needs_background": "light"
     },
     "output_type": "display_data"
    }
   ],
   "source": [
    "import matplotlib.pyplot as plt\n",
    "plt.plot(step, np.log(costs))\n",
    "plt.title(\"logarithmic cost-step function for unregularized gradient descent\")\n",
    "plt.grid()\n",
    "plt.show()"
   ]
  },
  {
   "cell_type": "markdown",
   "id": "fd97abde",
   "metadata": {},
   "source": [
    "In the next step, we compare different amounts of regularization factor for Ridge Regression and Lasso Regression. For calculating best regularization factor, K-fold Cross Validation is used.\n",
    "As results show below, our model doesn't suffer from overfitting in the first place, so increasing $\\lambda$ reduces the error negligibly.<br>\n",
    "As we see below, the least error for test data is obtained when $\\lambda$ is approximately equal to 10."
   ]
  },
  {
   "cell_type": "code",
   "execution_count": 27,
   "id": "f01347ad",
   "metadata": {},
   "outputs": [
    {
     "name": "stdout",
     "output_type": "stream",
     "text": [
      "ridge regularization:\n",
      "\n",
      "error for lambda = 0:      50.752701816426196\n",
      "error for lambda = 5:      50.75191460124235\n",
      "error for lambda = 10:     50.751570669408146\n",
      "error for lambda = 15:     50.75166968579234\n",
      "error for lambda = 20:     50.75221131551631\n",
      "\n",
      "best lambda: 10\n"
     ]
    }
   ],
   "source": [
    "m = len(X) // 5 * 4\n",
    "X_train = X[:m, :]\n",
    "y_train = y[:m, :]\n",
    "X_test = X[m:, :]\n",
    "y_test = y[m:, :]\n",
    "\n",
    "delta = 0.01\n",
    "step_number = 1000\n",
    "\n",
    "print(\"ridge regularization:\\n\")\n",
    "\n",
    "l = 0\n",
    "w_new = ridge_gradient_descent(X_train, y_train, w, l, delta, step_number)\n",
    "print(\"error for lambda = 0:     \", ridge_cost(X_test, y_test, w_new, 0)[0][0])\n",
    "\n",
    "l = 5\n",
    "w_new = ridge_gradient_descent(X_train, y_train, w, l, delta, step_number)\n",
    "print(\"error for lambda = 5:     \", ridge_cost(X_test, y_test, w_new, 0)[0][0])\n",
    "\n",
    "l = 10\n",
    "w_new = ridge_gradient_descent(X_train, y_train, w, l, delta, step_number)\n",
    "print(\"error for lambda = 10:    \", ridge_cost(X_test, y_test, w_new, 0)[0][0])\n",
    "\n",
    "l = 15\n",
    "w_new = ridge_gradient_descent(X_train, y_train, w, l, delta, step_number)\n",
    "print(\"error for lambda = 15:    \", ridge_cost(X_test, y_test, w_new, 0)[0][0])\n",
    "\n",
    "l = 20\n",
    "w_new = ridge_gradient_descent(X_train, y_train, w, l, delta, step_number)\n",
    "print(\"error for lambda = 20:    \", ridge_cost(X_test, y_test, w_new, 0)[0][0])\n",
    "\n",
    "print(\"\\nbest lambda: 10\")"
   ]
  },
  {
   "cell_type": "markdown",
   "id": "5cf9ffb4",
   "metadata": {},
   "source": [
    "As we have shown below, for this dataset, lasso regularization doesn't work very well. Best regularization factor is nearly zero."
   ]
  },
  {
   "cell_type": "code",
   "execution_count": 29,
   "id": "a8b111bb",
   "metadata": {},
   "outputs": [
    {
     "name": "stdout",
     "output_type": "stream",
     "text": [
      "lasso regularization:\n",
      "\n",
      "error for lambda = 0:       50.752701816426196\n",
      "error for lambda = 1:       50.752707081679354\n",
      "error for lambda = 2:       50.75271235241111\n",
      "error for lambda = 3:       50.75271762862149\n",
      "error for lambda = 4:       50.752722910310425\n",
      "\n",
      "best lambda: 0\n"
     ]
    }
   ],
   "source": [
    "m = len(X) // 5 * 4\n",
    "X_train = X[:m, :]\n",
    "y_train = y[:m, :]\n",
    "X_test = X[m:, :]\n",
    "y_test = y[m:, :]\n",
    "\n",
    "delta = 0.01\n",
    "step_number = 1000\n",
    "\n",
    "print(\"lasso regularization:\\n\")\n",
    "\n",
    "l = 0\n",
    "w_new = lasso_gradient_descent(X_train, y_train, w, l, delta, step_number)\n",
    "print(\"error for lambda = 0:      \", ridge_cost(X_test, y_test, w_new, 0)[0][0])\n",
    "\n",
    "l = 1\n",
    "w_new = lasso_gradient_descent(X_train, y_train, w, l, delta, step_number)\n",
    "print(\"error for lambda = 1:      \", ridge_cost(X_test, y_test, w_new, 0)[0][0])\n",
    "\n",
    "l = 2\n",
    "w_new = lasso_gradient_descent(X_train, y_train, w, l, delta, step_number)\n",
    "print(\"error for lambda = 2:      \", ridge_cost(X_test, y_test, w_new, 0)[0][0])\n",
    "\n",
    "l = 3\n",
    "w_new = lasso_gradient_descent(X_train, y_train, w, l, delta, step_number)\n",
    "print(\"error for lambda = 3:      \", ridge_cost(X_test, y_test, w_new, 0)[0][0])\n",
    "\n",
    "l = 4\n",
    "w_new = lasso_gradient_descent(X_train, y_train, w, l, delta, step_number)\n",
    "print(\"error for lambda = 4:      \", ridge_cost(X_test, y_test, w_new, 0)[0][0])\n",
    "\n",
    "print(\"\\nbest lambda: 0\")"
   ]
  }
 ],
 "metadata": {
  "kernelspec": {
   "display_name": "Python 3 (ipykernel)",
   "language": "python",
   "name": "python3"
  },
  "language_info": {
   "codemirror_mode": {
    "name": "ipython",
    "version": 3
   },
   "file_extension": ".py",
   "mimetype": "text/x-python",
   "name": "python",
   "nbconvert_exporter": "python",
   "pygments_lexer": "ipython3",
   "version": "3.10.2"
  }
 },
 "nbformat": 4,
 "nbformat_minor": 5
}
