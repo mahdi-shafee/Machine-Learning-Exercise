{
  "cells": [
    {
      "cell_type": "markdown",
      "id": "52d3a943",
      "metadata": {
        "id": "52d3a943"
      },
      "source": [
        "<img src='http://www-scf.usc.edu/~ghasemig/images/sharif.png' alt=\"SUT logo\" width=200 height=200 align=left class=\"saturate\" >\n",
        "\n",
        "<br>\n",
        "<font face=\"Times New Roman\">\n",
        "<div dir=ltr align=center>\n",
        "<font color=0F5298 size=7>\n",
        "    Introduction to Machine Learning <br>\n",
        "<font color=2565AE size=5>\n",
        "    Computer Engineering Department <br>\n",
        "    Fall 2022<br>\n",
        "<font color=3C99D size=5>\n",
        "    Homework 3: Practical - ML Models for Tabular Datasets <br>\n",
        "<font color=696880 size=4>\n",
        "    Niloufar Razani \n",
        "    \n",
        "    \n",
        "____"
      ]
    },
    {
      "cell_type": "markdown",
      "id": "afcf1f24",
      "metadata": {
        "id": "afcf1f24"
      },
      "source": [
        "### Full Name : Mahdi Shafiei\n",
        "### Student Number : 99109409\n",
        "___"
      ]
    },
    {
      "cell_type": "markdown",
      "id": "8c097381",
      "metadata": {
        "id": "8c097381"
      },
      "source": [
        "<font face=\"Times New Roman\" size=4><div dir=ltr>\n",
        "In this homework we are going to implement Adaboost algorithm from scratch. Please read this chapter's <a href=\"https://github.com/asharifiz/Introduction_to_Machine_Learning/tree/main/Jupyter_Notebooks/Chapter_04_Tabular_Data_Models\"><font face=\"Roboto\">notebook</font></a> and then complete the #TODO sections. <br>\n",
        "We will use the heart_disease.csv dataset, which you can see more details about in this <a href=\"https://www.kaggle.com/datasets/johnsmith88/heart-disease-dataset?resource=download&select=heart.csv\"><font face=\"Roboto\">Link</font></a>.\n",
        "___"
      ]
    },
    {
      "cell_type": "code",
      "execution_count": 72,
      "id": "1a687a71",
      "metadata": {
        "id": "1a687a71"
      },
      "outputs": [],
      "source": [
        "import numpy as np\n",
        "import pandas as pd\n",
        "import seaborn as sns\n",
        "import matplotlib.pyplot as plt\n",
        "from sklearn.model_selection import train_test_split\n",
        "from sklearn import metrics"
      ]
    },
    {
      "cell_type": "markdown",
      "id": "3b152c1e",
      "metadata": {
        "id": "3b152c1e"
      },
      "source": [
        "### Data Prepration (10 points) \n",
        "1.   Load Dataset\n",
        "2.   Separate target feaure\n",
        "3.   Change class labels to 1 and -1\n",
        "4.   Do train-test split"
      ]
    },
    {
      "cell_type": "code",
      "execution_count": 73,
      "id": "159d3986",
      "metadata": {
        "id": "159d3986"
      },
      "outputs": [],
      "source": [
        "#TODO\n",
        "heart_disease_pdf = pd.read_csv(\"heart_disease.csv\")\n",
        "X = heart_disease_pdf.drop(['target'], axis=1)\n",
        "y = heart_disease_pdf[['target']]\n",
        "y = y * 2 - 1\n",
        "X_train, X_test, y_train, y_test = train_test_split(X.values, y.values, test_size=0.70, random_state=42)\n",
        "y_train = y_train.reshape((len(y_train), ))\n",
        "y_test = y_test.reshape((len(y_test), ))"
      ]
    },
    {
      "cell_type": "markdown",
      "id": "695a1fc7",
      "metadata": {
        "id": "695a1fc7"
      },
      "source": [
        "### Adaboost Algorithm Implementation (40 points)"
      ]
    },
    {
      "cell_type": "code",
      "execution_count": 74,
      "id": "95f76156",
      "metadata": {
        "id": "95f76156"
      },
      "outputs": [],
      "source": [
        "from sklearn.tree import DecisionTreeClassifier\n",
        "\n",
        "def calculate_error(y, y_pred, w):\n",
        "    #TODO : Calculate the weighted error of a weak classifier.\n",
        "    return (sum(w * (np.not_equal(y, y_pred)).astype(int)))/sum(w)\n",
        "\n",
        "def calculate_alpha(error):\n",
        "    #TODO : Calculate the weight of a weak classifier.\n",
        "    return np.log((1 - error) / error)\n",
        "    \n",
        "\n",
        "def update_weights(w, alpha, y, y_pred):\n",
        "    #TODO : Update weights after a boosting iteration.\n",
        "    return np.multiply(w, np.exp(np.multiply(alpha, (np.not_equal(y, y_pred)).astype(int))))\n",
        "    \n",
        "\n",
        "    \n",
        "class AdaBoost:\n",
        "    \n",
        "    def __init__(self):\n",
        "        self.alphas = []\n",
        "        self.G_M = []\n",
        "        self.training_errors = []\n",
        "\n",
        "    def fit(self, X, y, M = 100):\n",
        "        \n",
        "        self.alphas = [] \n",
        "        self.training_errors = []\n",
        "        self.M = M\n",
        "\n",
        "        for m in range(0, M):\n",
        "            \n",
        "            # Set weights\n",
        "            if m == 0:\n",
        "                #TODO\n",
        "                w = np.ones(len(y)) * 1 / len(y)\n",
        "                 \n",
        "            else:\n",
        "                #TODO\n",
        "                w = update_weights(w, alpha_m, y, y_pred)\n",
        "               \n",
        "            \n",
        "            # 1. Fit weak classifier and predict labels(using predict method) and Save it to list of weak classifiers.\n",
        "            #TODO\n",
        "            G_m = DecisionTreeClassifier(max_depth = 1)\n",
        "            G_m.fit(X, y, sample_weight = w)\n",
        "            y_pred = G_m.predict(X)\n",
        "            self.G_M.append(G_m)\n",
        "\n",
        "            # 2. Calculate error of this weak classifier and save it to list of trainingterrors.\n",
        "            #TODO\n",
        "            error_m = calculate_error(y, y_pred, w)\n",
        "            self.training_errors.append(error_m)\n",
        "\n",
        "\n",
        "            # 3. Calculate alpha of this weak classifier and save it to list of alphas.\n",
        "            #TODO\n",
        "            alpha_m = calculate_alpha(error_m)\n",
        "            self.alphas.append(alpha_m)\n",
        "\n",
        "\n",
        "\n",
        "    def predict(self, X):\n",
        "\n",
        "        weak_preds = pd.DataFrame(index = range(len(X)), columns = range(self.M)) \n",
        "\n",
        "        for m in range(self.M):\n",
        "            y_pred_m = self.G_M[m].predict(X) * self.alphas[m]\n",
        "            weak_preds.iloc[:,m] = y_pred_m\n",
        "\n",
        "        y_pred = (1 * np.sign(weak_preds.T.sum())).astype(int)\n",
        "\n",
        "        return y_pred"
      ]
    },
    {
      "cell_type": "markdown",
      "id": "f27f8987",
      "metadata": {
        "id": "f27f8987"
      },
      "source": [
        "### Training and Evaluation (20 points)"
      ]
    },
    {
      "cell_type": "code",
      "execution_count": 101,
      "id": "2986c7a1",
      "metadata": {
        "colab": {
          "base_uri": "https://localhost:8080/"
        },
        "id": "2986c7a1",
        "outputId": "d21b4dcd-7bed-43b5-d552-fcfd530e07cc"
      },
      "outputs": [
        {
          "output_type": "stream",
          "name": "stdout",
          "text": [
            "Accurcay:  0.8927576601671309\n",
            "Precision: 0.883289124668435\n",
            "Recall:    0.9098360655737705\n",
            "F1 score:  0.8963660834454913\n"
          ]
        }
      ],
      "source": [
        "#TODO : Fit model\n",
        "ab = AdaBoost()\n",
        "ab.fit(X_train, y_train, M = 1000)\n",
        "\n",
        "#TODO : Predict on test data\n",
        "y_pred = ab.predict(X_test)\n",
        "\n",
        "#TODO : Print evaluation metrics (Accurcy, Precission, Recall and f-score)\n",
        "print(\"Accurcay: \", metrics.accuracy_score(y_test, y_pred))\n",
        "print(\"Precision:\", metrics.precision_score(y_test, y_pred))\n",
        "print(\"Recall:   \", metrics.recall_score(y_test, y_pred))\n",
        "print(\"F1 score: \", metrics.f1_score(y_test, y_pred))"
      ]
    },
    {
      "cell_type": "code",
      "execution_count": 102,
      "id": "39bb9216",
      "metadata": {
        "colab": {
          "base_uri": "https://localhost:8080/"
        },
        "id": "39bb9216",
        "outputId": "68654b9b-179a-4512-8de0-1b38bcafd865"
      },
      "outputs": [
        {
          "output_type": "stream",
          "name": "stdout",
          "text": [
            "Accurcay:  0.8565459610027855\n",
            "Precision: 0.8602739726027397\n",
            "Recall:    0.8579234972677595\n",
            "F1 score:  0.8590971272229821\n"
          ]
        }
      ],
      "source": [
        "#TODO : Do Scikit-Learn implementation of AdaBoost and print evaluation metrics\n",
        "from sklearn.ensemble import AdaBoostClassifier\n",
        "clf = AdaBoostClassifier(random_state = 96)\n",
        "clf.fit(X_train, y_train)\n",
        "y_pred_clf = clf.predict(X_test)\n",
        "\n",
        "print(\"Accurcay: \", metrics.accuracy_score(y_test, y_pred_clf))\n",
        "print(\"Precision:\", metrics.precision_score(y_test, y_pred_clf))\n",
        "print(\"Recall:   \", metrics.recall_score(y_test, y_pred_clf))\n",
        "print(\"F1 score: \", metrics.f1_score(y_test, y_pred_clf))"
      ]
    },
    {
      "cell_type": "markdown",
      "id": "e8fdcb6d",
      "metadata": {
        "id": "e8fdcb6d"
      },
      "source": [
        "### Early Stopping (15 points)"
      ]
    },
    {
      "cell_type": "code",
      "execution_count": 103,
      "id": "ac86c294",
      "metadata": {
        "id": "ac86c294"
      },
      "outputs": [],
      "source": [
        "#TODO : Calculate validation error for different number of estimators \n",
        "estimator_numbers = [200, 400, 600, 800, 1000, 1200, 1400, 1600, 1800, 2000]\n",
        "f1_scores = []\n",
        "for number in estimator_numbers:\n",
        "  ab_num = AdaBoost()\n",
        "  ab_num.fit(X_train, y_train, M=number)\n",
        "  y_pred_num = ab_num.predict(X_test)\n",
        "  f1_scores.append(metrics.f1_score(y_test, y_pred_num))"
      ]
    },
    {
      "cell_type": "code",
      "execution_count": 104,
      "id": "d6e06fea",
      "metadata": {
        "colab": {
          "base_uri": "https://localhost:8080/",
          "height": 265
        },
        "id": "d6e06fea",
        "outputId": "b039588c-3ccf-4815-c850-5a7afabaedf9"
      },
      "outputs": [
        {
          "output_type": "display_data",
          "data": {
            "text/plain": [
              "<Figure size 432x288 with 1 Axes>"
            ],
            "image/png": "[encoded data removed]"
          },
          "metadata": {
            "needs_background": "light"
          }
        }
      ],
      "source": [
        "#TODO : Plot validation error versus number of estimators figure.\n",
        "plt.plot(estimator_numbers, f1_scores)\n",
        "plt.show()"
      ]
    },
    {
      "cell_type": "code",
      "execution_count": 105,
      "id": "cdfac096",
      "metadata": {
        "colab": {
          "base_uri": "https://localhost:8080/"
        },
        "id": "cdfac096",
        "outputId": "4afc23f7-31c9-4bad-f023-a7cbca462f18"
      },
      "outputs": [
        {
          "output_type": "stream",
          "name": "stdout",
          "text": [
            "Best number of estimators: 1000\n"
          ]
        }
      ],
      "source": [
        "#TODO : Print the best number for estimators and minimum value for validation error.\n",
        "print(\"Best number of estimators:\", estimator_numbers[np.argmax(f1_scores)])"
      ]
    },
    {
      "cell_type": "markdown",
      "id": "ec46a972",
      "metadata": {
        "id": "ec46a972"
      },
      "source": [
        "### Weighted Error (10 points)"
      ]
    },
    {
      "cell_type": "code",
      "execution_count": 107,
      "id": "7471664f",
      "metadata": {
        "colab": {
          "base_uri": "https://localhost:8080/",
          "height": 265
        },
        "id": "7471664f",
        "outputId": "cc8845a2-9c16-4405-8f2f-6278aad83a76"
      },
      "outputs": [
        {
          "output_type": "display_data",
          "data": {
            "text/plain": [
              "<Figure size 432x288 with 1 Axes>"
            ],
            "image/png": "[encoded data removed]"
          },
          "metadata": {
            "needs_background": "light"
          }
        }
      ],
      "source": [
        "#TODO : Plot weighted training error versus number of estimators figure using training_errors attribute in Adaboost class.\n",
        "plt.plot(range(1000), ab.training_errors)\n",
        "plt.show()"
      ]
    },
    {
      "cell_type": "markdown",
      "id": "22f513e8",
      "metadata": {
        "id": "22f513e8"
      },
      "source": [
        "### Question : Why does the weighted error tend to increase as the number of estimators increase? (5points)"
      ]
    },
    {
      "cell_type": "markdown",
      "source": [
        "Decision Tress tend to overfit the training data, which is also true for the stumps used in AdaBoost. So each classifier, overfits on the previous data, so at each step, error increases."
      ],
      "metadata": {
        "id": "pkCLfA_FUiSR"
      },
      "id": "pkCLfA_FUiSR"
    }
  ],
  "metadata": {
    "kernelspec": {
      "display_name": "Python 3 (ipykernel)",
      "language": "python",
      "name": "python3"
    },
    "language_info": {
      "codemirror_mode": {
        "name": "ipython",
        "version": 3
      },
      "file_extension": ".py",
      "mimetype": "text/x-python",
      "name": "python",
      "nbconvert_exporter": "python",
      "pygments_lexer": "ipython3",
      "version": "3.9.7"
    },
    "colab": {
      "provenance": []
    }
  },
  "nbformat": 4,
  "nbformat_minor": 5
}